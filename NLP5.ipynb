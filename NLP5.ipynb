{
  "nbformat": 4,
  "nbformat_minor": 0,
  "metadata": {
    "colab": {
      "provenance": []
    },
    "kernelspec": {
      "name": "python3",
      "display_name": "Python 3"
    },
    "language_info": {
      "name": "python"
    }
  },
  "cells": [
    {
      "cell_type": "markdown",
      "source": [
        "# NLP Assignment No. 5\n",
        "## Title: The assignment focuses on understanding morphology, which is the branch of linguistics concerned with the structure of words. It examines how words are built from smaller meaning-bearing units called morphemes."
      ],
      "metadata": {
        "id": "OSi9jWJDuq6f"
      }
    },
    {
      "cell_type": "code",
      "execution_count": null,
      "metadata": {
        "id": "V119LzjlttvN"
      },
      "outputs": [],
      "source": [
        "# Function to add a morpheme to a base word\n",
        "def add_morpheme(base_word, morpheme):\n",
        "    return base_word + morpheme\n",
        "\n",
        "# Function to delete a morpheme from a word\n",
        "def delete_morpheme(word, morpheme):\n",
        "    if word.endswith(morpheme):\n",
        "        return word[:-len(morpheme)]\n",
        "    return word"
      ]
    },
    {
      "cell_type": "code",
      "source": [
        "# Function to display the add-delete table\n",
        "def display_add_delete_table():\n",
        "    print(f\"{'Base Word':<15}{'Additions (Morphemes)':<25}{'New Word':<15}{'Deleted Morphemes':<20}{'Final Word':<15}\")\n",
        "    print(\"-\" * 90)\n",
        "\n",
        "    # Example base words and morphemes\n",
        "    words_and_morphemes = [\n",
        "        (\"happy\", \"-ness\", \"happiness\", \"-ness\", \"happy\"),\n",
        "        (\"walk\", \"-ed\", \"walked\", \"\", \"walked\"),\n",
        "        (\"unhappy\", \"-ness\", \"unhappiness\", \"-un\", \"happy\"),\n",
        "        (\"teach\", \"-er\", \"teacher\", \"\", \"teacher\"),\n",
        "        (\"do\", \"-ing\", \"doing\", \"\", \"doing\"),\n",
        "        (\"unhappiness\", \"-un\", \"happiness\", \"-un\", \"happy\")\n",
        "    ]\n",
        "\n",
        "    # Loop through each example and print the table\n",
        "    for base_word, add_morpheme_str, new_word, delete_morpheme_str, final_word in words_and_morphemes:\n",
        "        print(f\"{base_word:<15}{add_morpheme_str:<25}{new_word:<15}{delete_morpheme_str:<20}{final_word:<15}\")"
      ],
      "metadata": {
        "id": "KKCKg8D2tyj3"
      },
      "execution_count": null,
      "outputs": []
    },
    {
      "cell_type": "code",
      "source": [
        "# Example of adding and deleting morphemes interactively\n",
        "def interactive_add_delete():\n",
        "    while True:\n",
        "        action = input(\"\\nWould you like to 'add' or 'delete' a morpheme (or 'quit' to exit): \").strip().lower()\n",
        "        if action == 'quit':\n",
        "            break\n",
        "        elif action in ['add', 'delete']:\n",
        "            base_word = input(\"Enter the base word: \").strip()\n",
        "            morpheme = input(f\"Enter the morpheme to {action}: \").strip()\n",
        "\n",
        "            if action == 'add':\n",
        "                new_word = add_morpheme(base_word, morpheme)\n",
        "                print(f\"New word after addition: {new_word}\")\n",
        "            elif action == 'delete':\n",
        "                final_word = delete_morpheme(base_word, morpheme)\n",
        "                print(f\"New word after deletion: {final_word}\")\n",
        "        else:\n",
        "            print(\"Invalid option, please try again.\")"
      ],
      "metadata": {
        "id": "pBn8jlk6tymX"
      },
      "execution_count": null,
      "outputs": []
    },
    {
      "cell_type": "code",
      "source": [
        "\n",
        "# Main function to run the code\n",
        "def main():\n",
        "    print(\"Demonstrating Morphology with Add-Delete Table:\")\n",
        "    display_add_delete_table()\n",
        "\n",
        "    # Give the user an interactive session to add or delete morphemes\n",
        "    interactive_add_delete()\n",
        "\n",
        "# Run the program\n",
        "if __name__ == \"__main__\":\n",
        "    main()"
      ],
      "metadata": {
        "colab": {
          "base_uri": "https://localhost:8080/"
        },
        "id": "iVHiprqutypH",
        "outputId": "b0ad773f-7774-4f4e-ba46-168e1aeff184"
      },
      "execution_count": null,
      "outputs": [
        {
          "name": "stdout",
          "output_type": "stream",
          "text": [
            "Demonstrating Morphology with Add-Delete Table:\n",
            "Base Word      Additions (Morphemes)    New Word       Deleted Morphemes   Final Word     \n",
            "------------------------------------------------------------------------------------------\n",
            "happy          -ness                    happiness      -ness               happy          \n",
            "walk           -ed                      walked                             walked         \n",
            "unhappy        -ness                    unhappiness    -un                 happy          \n",
            "teach          -er                      teacher                            teacher        \n",
            "do             -ing                     doing                              doing          \n",
            "unhappiness    -un                      happiness      -un                 happy          \n",
            "\n",
            "Would you like to 'add' or 'delete' a morpheme (or 'quit' to exit): delete\n",
            "Enter the base word: happy\n",
            "Enter the morpheme to delete: y\n",
            "New word after deletion: happ\n",
            "\n",
            "Would you like to 'add' or 'delete' a morpheme (or 'quit' to exit): add\n",
            "Enter the base word: happ\n",
            "Enter the morpheme to add: ily\n",
            "New word after addition: happily\n",
            "\n",
            "Would you like to 'add' or 'delete' a morpheme (or 'quit' to exit): add\n",
            "Enter the base word: walk\n",
            "Enter the morpheme to add: ing\n",
            "New word after addition: walking\n",
            "\n",
            "Would you like to 'add' or 'delete' a morpheme (or 'quit' to exit): quit\n"
          ]
        }
      ]
    },
    {
      "cell_type": "markdown",
      "source": [
        "**Completed**"
      ],
      "metadata": {
        "id": "ttLahDfuumuv"
      }
    },
    {
      "cell_type": "code",
      "source": [],
      "metadata": {
        "id": "YfbKihtkup4R"
      },
      "execution_count": null,
      "outputs": []
    }
  ]
}